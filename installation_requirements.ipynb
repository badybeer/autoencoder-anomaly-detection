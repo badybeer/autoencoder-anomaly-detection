{
 "cells": [
  {
   "cell_type": "code",
   "execution_count": null,
   "id": "447de2cf",
   "metadata": {},
   "outputs": [],
   "source": [
    "# Installation of pandas and numpy\n",
    "pip install pandas numpy\n",
    "\n",
    "# Installation of matplotlib and seaborn for visualization\n",
    "pip install matplotlib seaborn\n",
    "\n",
    "# Installation of scikit-learn for machine learning preprocessing and evaluation\n",
    "pip install scikit-learn\n",
    "\n",
    "# Installation of TensorFlow and Keras for neural networks\n",
    "pip install tensorflow"
   ]
  },
  {
   "cell_type": "code",
   "execution_count": null,
   "id": "d505ca5f-983f-4926-a990-ab6bcc15346e",
   "metadata": {},
   "outputs": [],
   "source": [
    "# Basic data handling and numerical operations\n",
    "import pandas as pd\n",
    "import numpy as np\n",
    "import os\n",
    "\n",
    "# Visualization libraries\n",
    "import matplotlib.pyplot as plt\n",
    "from matplotlib import dates as mpl_dates\n",
    "import seaborn as sns\n",
    "\n",
    "# Machine Learning preprocessing and evaluation\n",
    "from sklearn.model_selection import train_test_split\n",
    "from sklearn.preprocessing import MinMaxScaler\n",
    "from sklearn.metrics import accuracy_score, precision_score, recall_score, f1_score, roc_auc_score, roc_curve, auc\n",
    "\n",
    "# TensorFlow and Keras for Neural Networks\n",
    "import tensorflow as tf\n",
    "from tensorflow.keras.models import Model, Sequential\n",
    "from tensorflow.keras.layers import Input, Dense, Dropout\n",
    "from tensorflow.keras.optimizers import Adam\n",
    "from tensorflow.keras.callbacks import EarlyStopping, ReduceLROnPlateau, TensorBoard\n",
    "from tensorflow.keras.regularizers import l2"
   ]
  }
 ],
 "metadata": {
  "kernelspec": {
   "display_name": "Python 3 (ipykernel)",
   "language": "python",
   "name": "python3"
  },
  "language_info": {
   "codemirror_mode": {
    "name": "ipython",
    "version": 3
   },
   "file_extension": ".py",
   "mimetype": "text/x-python",
   "name": "python",
   "nbconvert_exporter": "python",
   "pygments_lexer": "ipython3",
   "version": "3.10.11"
  }
 },
 "nbformat": 4,
 "nbformat_minor": 5
}
